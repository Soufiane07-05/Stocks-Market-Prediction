{
  "nbformat": 4,
  "nbformat_minor": 0,
  "metadata": {
    "colab": {
      "name": "Prediction_Stocks.ipynb",
      "provenance": [],
      "collapsed_sections": [],
      "authorship_tag": "ABX9TyPyZITHrRuTBdNlBbXodLba",
      "include_colab_link": true
    },
    "kernelspec": {
      "name": "python3",
      "display_name": "Python 3"
    },
    "language_info": {
      "name": "python"
    }
  },
  "cells": [
    {
      "cell_type": "markdown",
      "metadata": {
        "id": "view-in-github",
        "colab_type": "text"
      },
      "source": [
        "<a href=\"https://colab.research.google.com/github/Soufiane07-05/Stocks-Market-Prediction/blob/main/Prediction_Stocks.ipynb\" target=\"_parent\"><img src=\"https://colab.research.google.com/assets/colab-badge.svg\" alt=\"Open In Colab\"/></a>"
      ]
    },
    {
      "cell_type": "code",
      "execution_count": null,
      "metadata": {
        "id": "8okxLwFJyrGJ"
      },
      "outputs": [],
      "source": [
        "#This projet is an ai building to predict stocks of Apple using 60 day past(PFA)"
      ]
    },
    {
      "cell_type": "code",
      "source": [
        "#Import the libraries\n",
        "#fonction de maths\n",
        "import math\n",
        "#pandas: analyse de donnees, reader remote date\n",
        "import pandas_datareader as web\n",
        "#manipulation des matrices et des tableaux multidimentionels\n",
        "import numpy as np\n",
        "import pandas as pd\n",
        "\n",
        "from sklearn.preprocessing import MinMaxScaler\n",
        "from keras.models import Sequential\n",
        "from keras.layers import Dense, LSTM\n",
        "import matplotlib.pyplot as plt \n",
        "plt.style.use(\"fivethirtyeight\")"
      ],
      "metadata": {
        "id": "CH6SMQQMuN3L"
      },
      "execution_count": null,
      "outputs": []
    }
  ]
}